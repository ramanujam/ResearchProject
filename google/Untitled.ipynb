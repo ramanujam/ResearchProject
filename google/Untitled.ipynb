{
 "cells": [
  {
   "cell_type": "code",
   "execution_count": 1,
   "metadata": {},
   "outputs": [
    {
     "name": "stdout",
     "output_type": "stream",
     "text": [
      "http://www.dictionary.com/browse/query\n",
      "https://www.merriam-webster.com/dictionary/query\n",
      "https://steamcommunity.com/app/105600/discussions/0/666825525279419097/\n",
      "https://www.thefreedictionary.com/query\n",
      "http://searchsqlserver.techtarget.com/definition/query\n",
      "https://dictionary.cambridge.org/dictionary/english/query\n"
     ]
    }
   ],
   "source": [
    "import sys\n",
    "import __init__ as g\n",
    "\n",
    "num_page = 3\n",
    "query = \"This is my query\";\n",
    "search_results = g.search(query, num = num_page,stop=5)\n",
    "urls\n",
    "for result in search_results:\n",
    "    print(result)\n"
   ]
  },
  {
   "cell_type": "code",
   "execution_count": null,
   "metadata": {
    "collapsed": true
   },
   "outputs": [],
   "source": []
  }
 ],
 "metadata": {
  "kernelspec": {
   "display_name": "Python 3",
   "language": "python",
   "name": "python3"
  },
  "language_info": {
   "codemirror_mode": {
    "name": "ipython",
    "version": 3
   },
   "file_extension": ".py",
   "mimetype": "text/x-python",
   "name": "python",
   "nbconvert_exporter": "python",
   "pygments_lexer": "ipython3",
   "version": "3.6.1"
  }
 },
 "nbformat": 4,
 "nbformat_minor": 2
}
