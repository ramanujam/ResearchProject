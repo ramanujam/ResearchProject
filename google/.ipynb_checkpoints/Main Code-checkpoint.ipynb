{
 "cells": [
  {
   "cell_type": "code",
   "execution_count": 1,
   "metadata": {},
   "outputs": [
    {
     "name": "stdout",
     "output_type": "stream",
     "text": [
      "Column headings:\n",
      "Index(['idProduct', 'name', 'description', 'brand', 'cat_id', 'category',\n",
      "       'color', 'upc', 'model'],\n",
      "      dtype='object')\n"
     ]
    }
   ],
   "source": [
    "##Read the file\n",
    "import pandas as pd\n",
    "from pandas import ExcelWriter\n",
    "from pandas import ExcelFile\n",
    " \n",
    "df = pd.read_excel('productsSample.xlsx', sheetname='Table1')\n",
    " \n",
    "print(\"Column headings:\")\n",
    "print(df.columns)"
   ]
  },
  {
   "cell_type": "code",
   "execution_count": 2,
   "metadata": {},
   "outputs": [
    {
     "name": "stdout",
     "output_type": "stream",
     "text": [
      "0       SLED3200 Orion America Televisions\n",
      "1                        55LN5400 LG - EW2\n",
      "2                        E325BD HD Sceptre\n",
      "3                  50LN5400 LG Electronics\n",
      "4                         PN51E450 Samsung\n",
      "5                           LED42C45RQ RCA\n",
      "6                          39LN5300 LG EW2\n",
      "7                   UN43J5200AFXZA Samsung\n",
      "8                        LC 80LE844U Sharp\n",
      "9                            TS218SU Chief\n",
      "10                        40L5200U Toshiba\n",
      "11                         KDL46EX720 Sony\n",
      "12                 NT1907 Naxa Electronics\n",
      "13                        PN51E530 Samsung\n",
      "14                         32C120U Toshiba\n",
      "15                      SC 3911 Supersonic\n",
      "16                          VZ65PH Vizomax\n",
      "17                          mfc6000b Chief\n",
      "18                       X322BV HD Sceptre\n",
      "19                       LC 70LE757U Sharp\n",
      "20                       UN28H4500 Samsung\n",
      "21                      UN32EH4003 Samsung\n",
      "22                      PLEDV2488A Proscan\n",
      "23                         KDL40EX720 Sony\n",
      "24                         KDL60EX720 Sony\n",
      "25                            TDE1982B GPX\n",
      "26                      E195BD SHD Sceptre\n",
      "27                    SAUN55MU7000 Samsung\n",
      "28                           D50U-D1 VIZIO\n",
      "29                         KDL55EX720 Sony\n",
      "                       ...                \n",
      "4344                                   NaN\n",
      "4345                                   NaN\n",
      "4346                                   NaN\n",
      "4347                       Qui 8687 Quinny\n",
      "4348      CCPD-V1-5_200_USA Mountain Buggy\n",
      "4349                         282304 Stokke\n",
      "4350                    ZEE1134 Valco Baby\n",
      "4351      BJC1Mini R Sasha Kiddie Products\n",
      "4352                                   NaN\n",
      "4353                            WS1031 BOB\n",
      "4354     CCPD-V1-11_200_USA Mountain Buggy\n",
      "4355                         1927616 Graco\n",
      "4356       VERSS_V1_9999_200_USA phil&teds\n",
      "4357                                   NaN\n",
      "4358             BBM007 Baby Blanket Music\n",
      "4359                MBY1617 Mountain Buggy\n",
      "4360                                   NaN\n",
      "4361                                   NaN\n",
      "4362                                   NaN\n",
      "4363                                   NaN\n",
      "4364                                   NaN\n",
      "4365                                   NaN\n",
      "4366                     475X BeBeLove USA\n",
      "4367                  Bab 8601 Baby Jogger\n",
      "4368               225935600 Mamas & Papas\n",
      "4369                                   NaN\n",
      "4370                         177806 Stokke\n",
      "4371               G+GC4BLUE guzzie + Guss\n",
      "4372                                   NaN\n",
      "4373                                   NaN\n",
      "Length: 4374, dtype: object\n"
     ]
    }
   ],
   "source": [
    "## Get the Search String\n",
    "queryString =df['model']+\" \"+df['brand'] ## if model number not present  -> product name \n",
    "print(queryString)"
   ]
  },
  {
   "cell_type": "code",
   "execution_count": 6,
   "metadata": {},
   "outputs": [
    {
     "name": "stdout",
     "output_type": "stream",
     "text": [
      "https://www.apple.com/\n",
      "https://www.apple.com/iphone/\n",
      "https://www.apple.com/ipad/\n",
      "https://support.apple.com/\n",
      "https://www.apple.com/retail/\n",
      "https://www.apple.com/mac/\n",
      "https://www.apple.com/iphone-x/\n",
      "https://techcrunch.com/2017/11/16/apples-new-ad-shows-how-ipads-are-going-to-replace-laptops/\n",
      "https://www.youtube.com/watch?v=sQB2NjhJHvY\n",
      "https://www.theverge.com/2017/11/16/16667510/apple-diversity-chief-leaving-after-less-than-a-year\n",
      "https://en.wikipedia.org/wiki/Apple_Inc.\n",
      "https://twitter.com/apple?lang=en\n",
      "https://www.youtube.com/channel/UCE_M8A5yxnLfW0KghEeajjw\n",
      "https://www.apple.com/\n",
      "https://www.apple.com/iphone/\n",
      "https://www.apple.com/ipad/\n",
      "https://support.apple.com/\n",
      "https://www.apple.com/retail/\n",
      "https://www.apple.com/mac/\n",
      "https://www.apple.com/iphone-x/\n",
      "https://techcrunch.com/2017/11/16/apples-new-ad-shows-how-ipads-are-going-to-replace-laptops/\n",
      "https://www.youtube.com/watch?v=sQB2NjhJHvY\n",
      "https://www.theverge.com/2017/11/16/16667510/apple-diversity-chief-leaving-after-less-than-a-year\n",
      "https://en.wikipedia.org/wiki/Apple_Inc.\n",
      "https://twitter.com/apple?lang=en\n",
      "https://www.youtube.com/channel/UCE_M8A5yxnLfW0KghEeajjw\n"
     ]
    }
   ],
   "source": [
    "## Do the google Search based on Search String and change the query \n",
    "\n",
    "import sys\n",
    "import __init__ as g\n",
    "\n",
    "#search_results = g.search(query, num = num_page,stop=5)\n",
    "\n",
    "# to search\n",
    "query = \"Apple\"\n",
    "num = 3\n",
    "urls = []\n",
    "for j in g.search(query, tld=\"com\", num=10, stop=1, pause=2):\n",
    "    print(j)\n",
    "    urls.append(j)\n",
    "for i in urls:\n",
    "    print(i)"
   ]
  },
  {
   "cell_type": "code",
   "execution_count": 8,
   "metadata": {},
   "outputs": [
    {
     "ename": "TypeError",
     "evalue": "string indices must be integers",
     "output_type": "error",
     "traceback": [
      "\u001b[1;31m---------------------------------------------------------------------------\u001b[0m",
      "\u001b[1;31mTypeError\u001b[0m                                 Traceback (most recent call last)",
      "\u001b[1;32m<ipython-input-8-c93c6694ed92>\u001b[0m in \u001b[0;36m<module>\u001b[1;34m()\u001b[0m\n\u001b[0;32m     20\u001b[0m             \u001b[0mtitle\u001b[0m \u001b[1;33m=\u001b[0m \u001b[0meverything_between\u001b[0m\u001b[1;33m(\u001b[0m\u001b[0mr\u001b[0m\u001b[1;33m.\u001b[0m\u001b[0mtext\u001b[0m\u001b[1;33m,\u001b[0m \u001b[1;34m'<title>'\u001b[0m\u001b[1;33m,\u001b[0m \u001b[1;34m'</title>'\u001b[0m\u001b[1;33m)\u001b[0m\u001b[1;33m\u001b[0m\u001b[0m\n\u001b[0;32m     21\u001b[0m             \u001b[1;31m#price = everything_between(r.text, '<price>', '</price>')\u001b[0m\u001b[1;33m\u001b[0m\u001b[1;33m\u001b[0m\u001b[0m\n\u001b[1;32m---> 22\u001b[1;33m             \u001b[0mprint\u001b[0m\u001b[1;33m(\u001b[0m\u001b[0murl\u001b[0m\u001b[1;33m,\u001b[0m\u001b[0mquery\u001b[0m\u001b[1;33m[\u001b[0m\u001b[0mi\u001b[0m\u001b[1;33m]\u001b[0m\u001b[1;33m)\u001b[0m\u001b[1;33m\u001b[0m\u001b[0m\n\u001b[0m\u001b[0;32m     23\u001b[0m \u001b[1;33m\u001b[0m\u001b[0m\n\u001b[0;32m     24\u001b[0m \u001b[1;33m\u001b[0m\u001b[0m\n",
      "\u001b[1;31mTypeError\u001b[0m: string indices must be integers"
     ]
    }
   ],
   "source": [
    "## Do the google Search based on Search String and change the query \n",
    "def everything_between( s, first, last ):\n",
    "    try:\n",
    "        start = s.rindex( first ) + len( first )\n",
    "        end = s.rindex( last, start )\n",
    "        return s[start:end]\n",
    "    except ValueError:\n",
    "        return \"\"\n",
    "\n",
    "\n",
    "import sys\n",
    "import __init__ as g\n",
    "import requests\n",
    "items = ['urls']\n",
    "items = pd.DataFrame(items)\n",
    "for i in query:\n",
    "    for url in g.search(i,tld=\"com\", stop=2):\n",
    "            r = requests.get(url)\n",
    "            items['url']=url;\n",
    "            title = everything_between(r.text, '<title>', '</title>')\n",
    "            #price = everything_between(r.text, '<price>', '</price>')\n",
    "            print(url,i)\n",
    "\n",
    "\n",
    "#search_results = g.search(query, num = num_page,stop=5)\n",
    "\n",
    "# to search\n",
    "#query = queryString\n",
    "#num = 3\n",
    "#for i in range(0,3):\n",
    "#   for j in g.search(query[i], tld=\"com\", num=2, stop=1, pause=2):\n",
    "#        print(j)"
   ]
  },
  {
   "cell_type": "code",
   "execution_count": 11,
   "metadata": {},
   "outputs": [
    {
     "ename": "NameError",
     "evalue": "name 'search' is not defined",
     "output_type": "error",
     "traceback": [
      "\u001b[1;31m---------------------------------------------------------------------------\u001b[0m",
      "\u001b[1;31mNameError\u001b[0m                                 Traceback (most recent call last)",
      "\u001b[1;32m<ipython-input-11-1d4b23dcb8e5>\u001b[0m in \u001b[0;36m<module>\u001b[1;34m()\u001b[0m\n\u001b[0;32m      1\u001b[0m \u001b[0mitems\u001b[0m \u001b[1;33m=\u001b[0m \u001b[1;33m[\u001b[0m\u001b[1;33m]\u001b[0m\u001b[1;33m\u001b[0m\u001b[0m\n\u001b[1;32m----> 2\u001b[1;33m \u001b[1;32mfor\u001b[0m \u001b[0mj\u001b[0m \u001b[1;32min\u001b[0m \u001b[0msearch\u001b[0m\u001b[1;33m(\u001b[0m\u001b[0mquery\u001b[0m\u001b[1;33m,\u001b[0m \u001b[0mtld\u001b[0m\u001b[1;33m=\u001b[0m\u001b[1;34m\"co.in\"\u001b[0m\u001b[1;33m,\u001b[0m \u001b[0mnum\u001b[0m\u001b[1;33m=\u001b[0m\u001b[1;36m10\u001b[0m\u001b[1;33m,\u001b[0m \u001b[0mstop\u001b[0m\u001b[1;33m=\u001b[0m\u001b[1;36m1\u001b[0m\u001b[1;33m,\u001b[0m \u001b[0mpause\u001b[0m\u001b[1;33m=\u001b[0m\u001b[1;36m2\u001b[0m\u001b[1;33m)\u001b[0m\u001b[1;33m:\u001b[0m\u001b[1;33m\u001b[0m\u001b[0m\n\u001b[0m\u001b[0;32m      3\u001b[0m     \u001b[0mitem\u001b[0m\u001b[1;33m[\u001b[0m\u001b[1;34m'url'\u001b[0m\u001b[1;33m]\u001b[0m \u001b[1;33m=\u001b[0m \u001b[0mj\u001b[0m\u001b[1;33m\u001b[0m\u001b[0m\n\u001b[0;32m      4\u001b[0m     \u001b[0mitems\u001b[0m\u001b[1;33m.\u001b[0m\u001b[0mappend\u001b[0m\u001b[1;33m(\u001b[0m\u001b[0mitem\u001b[0m\u001b[1;33m)\u001b[0m\u001b[1;33m\u001b[0m\u001b[0m\n",
      "\u001b[1;31mNameError\u001b[0m: name 'search' is not defined"
     ]
    }
   ],
   "source": [
    "## get the url results\n",
    "items = []\n",
    "for j in search(query, tld=\"com\", num=10, stop=1, pause=2):\n",
    "    item['url'] = j\n",
    "    items.append(item)"
   ]
  },
  {
   "cell_type": "code",
   "execution_count": null,
   "metadata": {
    "collapsed": true
   },
   "outputs": [],
   "source": [
    "## Get the price tags for each url"
   ]
  },
  {
   "cell_type": "code",
   "execution_count": null,
   "metadata": {
    "collapsed": true
   },
   "outputs": [],
   "source": [
    "## Store it in the productSample file as a column"
   ]
  }
 ],
 "metadata": {
  "kernelspec": {
   "display_name": "Python 3",
   "language": "python",
   "name": "python3"
  },
  "language_info": {
   "codemirror_mode": {
    "name": "ipython",
    "version": 3
   },
   "file_extension": ".py",
   "mimetype": "text/x-python",
   "name": "python",
   "nbconvert_exporter": "python",
   "pygments_lexer": "ipython3",
   "version": "3.6.1"
  }
 },
 "nbformat": 4,
 "nbformat_minor": 2
}
