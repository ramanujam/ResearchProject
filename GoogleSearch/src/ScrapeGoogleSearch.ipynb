{
 "cells": [
  {
   "cell_type": "code",
   "execution_count": 1,
   "metadata": {
    "collapsed": true
   },
   "outputs": [],
   "source": [
    "import os"
   ]
  },
  {
   "cell_type": "markdown",
   "metadata": {},
   "source": [
    "## Column List"
   ]
  },
  {
   "cell_type": "code",
   "execution_count": 2,
   "metadata": {
    "collapsed": true
   },
   "outputs": [],
   "source": [
    "cols = [\"Datetime\",\n",
    "        \"Search term\",\n",
    "        \"Google URL\",\n",
    "        \"Ad URL Website\",\n",
    "        \"Vendor\",\n",
    "        \"Position Num\",\n",
    "        \"Position\",\n",
    "        \"Result is consistent\",\n",
    "        \"Page number\",\n",
    "        \"Type of result\",\n",
    "        \"Comments\",\n",
    "        \"Ad Value\",\n",
    "        \"Static File Path\"]"
   ]
  },
  {
   "cell_type": "markdown",
   "metadata": {},
   "source": [
    "## Get user agent"
   ]
  },
  {
   "cell_type": "code",
   "execution_count": 3,
   "metadata": {
    "collapsed": true
   },
   "outputs": [],
   "source": [
    "#the default user_agent_list composes chrome,I E,firefox,Mozilla,opera,netscape\n",
    "#for more user agent strings,you can find it in http://www.useragentstring.com/pages/useragentstring.php\n",
    "\n",
    "user_agent_list = [\\\n",
    "        \"Mozilla/5.0 (Windows NT 6.1; WOW64) AppleWebKit/537.1 (KHTML, like Gecko) Chrome/22.0.1207.1 Safari/537.1\"\\\n",
    "        \"Mozilla/5.0 (X11; CrOS i686 2268.111.0) AppleWebKit/536.11 (KHTML, like Gecko) Chrome/20.0.1132.57 Safari/536.11\",\\\n",
    "        \"Mozilla/5.0 (Windows NT 6.1; WOW64) AppleWebKit/536.6 (KHTML, like Gecko) Chrome/20.0.1092.0 Safari/536.6\",\\\n",
    "        \"Mozilla/5.0 (Windows NT 6.2) AppleWebKit/536.6 (KHTML, like Gecko) Chrome/20.0.1090.0 Safari/536.6\",\\\n",
    "        \"Mozilla/5.0 (Windows NT 6.2; WOW64) AppleWebKit/537.1 (KHTML, like Gecko) Chrome/19.77.34.5 Safari/537.1\",\\\n",
    "        \"Mozilla/5.0 (X11; Linux x86_64) AppleWebKit/536.5 (KHTML, like Gecko) Chrome/19.0.1084.9 Safari/536.5\",\\\n",
    "        \"Mozilla/5.0 (Windows NT 6.0) AppleWebKit/536.5 (KHTML, like Gecko) Chrome/19.0.1084.36 Safari/536.5\",\\\n",
    "        \"Mozilla/5.0 (Windows NT 6.1; WOW64) AppleWebKit/536.3 (KHTML, like Gecko) Chrome/19.0.1063.0 Safari/536.3\",\\\n",
    "        \"Mozilla/5.0 (Windows NT 5.1) AppleWebKit/536.3 (KHTML, like Gecko) Chrome/19.0.1063.0 Safari/536.3\",\\\n",
    "        \"Mozilla/5.0 (Macintosh; Intel Mac OS X 10_8_0) AppleWebKit/536.3 (KHTML, like Gecko) Chrome/19.0.1063.0 Safari/536.3\",\\\n",
    "        \"Mozilla/5.0 (Windows NT 6.2) AppleWebKit/536.3 (KHTML, like Gecko) Chrome/19.0.1062.0 Safari/536.3\",\\\n",
    "        \"Mozilla/5.0 (Windows NT 6.1; WOW64) AppleWebKit/536.3 (KHTML, like Gecko) Chrome/19.0.1062.0 Safari/536.3\",\\\n",
    "        \"Mozilla/5.0 (Windows NT 6.2) AppleWebKit/536.3 (KHTML, like Gecko) Chrome/19.0.1061.1 Safari/536.3\",\\\n",
    "        \"Mozilla/5.0 (Windows NT 6.1; WOW64) AppleWebKit/536.3 (KHTML, like Gecko) Chrome/19.0.1061.1 Safari/536.3\",\\\n",
    "        \"Mozilla/5.0 (Windows NT 6.1) AppleWebKit/536.3 (KHTML, like Gecko) Chrome/19.0.1061.1 Safari/536.3\",\\\n",
    "        \"Mozilla/5.0 (Windows NT 6.2) AppleWebKit/536.3 (KHTML, like Gecko) Chrome/19.0.1061.0 Safari/536.3\",\\\n",
    "        \"Mozilla/5.0 (X11; Linux x86_64) AppleWebKit/535.24 (KHTML, like Gecko) Chrome/19.0.1055.1 Safari/535.24\",\\\n",
    "        \"Mozilla/5.0 (Windows NT 6.2; WOW64) AppleWebKit/535.24 (KHTML, like Gecko) Chrome/19.0.1055.1 Safari/535.24\"\n",
    "       ]"
   ]
  },
  {
   "cell_type": "markdown",
   "metadata": {},
   "source": [
    "# Imports"
   ]
  },
  {
   "cell_type": "code",
   "execution_count": 5,
   "metadata": {
    "collapsed": true
   },
   "outputs": [],
   "source": [
    "from bs4 import BeautifulSoup\n",
    "import csv\n",
    "import os\n",
    "import random\n",
    "import re\n",
    "import requests\n",
    "import subprocess\n",
    "import urllib"
   ]
  },
  {
   "cell_type": "markdown",
   "metadata": {},
   "source": [
    "### Advertisement class"
   ]
  },
  {
   "cell_type": "code",
   "execution_count": 453,
   "metadata": {
    "collapsed": true
   },
   "outputs": [],
   "source": [
    "class advertiz:\n",
    "    def __init__(self, name):\n",
    "        self.product_name = name\n",
    "        \n",
    "    def to_string(self):\n",
    "        print(\"Ad Product Name   : %s\" % self.product_name)\n",
    "        print(\"Ad Product URL    : %s\" % self.product_url)\n",
    "        print(\"Ad Product Price  : %s\" % self.price)\n",
    "        print(\"Ad Product Vendor : %s\" % self.vendor)\n",
    "        #print(\"Ad file location  : %s\" % self.filename)\n",
    "        print()\n",
    "        \n",
    "    def get_random_filename(self):\n",
    "        vendor = re.sub('[^0-9a-zA-Z]+', '_', self.vendor)\n",
    "        self.filename = \"../data/\" + vendor + str(random.randint(1,100000)) + \".pdf\"\n",
    "        self.filename = os.path.abspath(self.filename)\n",
    "        \n",
    "    def convert_url_to_pdf(self):    \n",
    "        self.get_random_filename()\n",
    "        subprocess.run([\"wkhtmltopdf\", \"%s\" % self.product_url, self.filename])"
   ]
  },
  {
   "cell_type": "markdown",
   "metadata": {},
   "source": [
    "### Ad results class"
   ]
  },
  {
   "cell_type": "code",
   "execution_count": 6,
   "metadata": {
    "collapsed": true
   },
   "outputs": [],
   "source": [
    "class AdResult:\n",
    "    def __init__(self, keyword):\n",
    "        self.keyword = keyword\n",
    "        self.address = \"http://www.google.com/search?q=%s&num=100&hl=en&start=0\" % (urllib.parse.quote_plus(keyword))\n",
    "        self.user    = self.process_request()\n",
    "        self.request = urllib.request.Request(self.address, None, {'User-Agent': self.user})\n",
    "        self.ads     = []\n",
    "        # call search\n",
    "        self.get_google_search_result()\n",
    "        self.parse_ads()\n",
    "        \n",
    "    def process_request(self):\n",
    "        ua = random.choice(user_agent_list)\n",
    "        return ua\n",
    "    \n",
    "    def get_google_search_result(self):\n",
    "        self.urlfile = urllib.request.urlopen(self.request)\n",
    "        self.page    = self.urlfile.read()\n",
    "        self.soup    = BeautifulSoup(self.page,'html.parser')\n",
    "        \n",
    "    def to_string(self):\n",
    "        print(\"Keyword : %s\" % self.keyword)\n",
    "        print(\"Address : %s\" % self.address)\n",
    "        print(\"Title   : %s\" % self.soup.title.string)\n",
    "        \n",
    "    def parse_ads(self):\n",
    "        #get top ads\n",
    "        try:\n",
    "            self.top_ads      = self.soup.find(class_=\"top-pla-group-inner\")\n",
    "            self.top_ads_list = self.top_ads.find_all(class_=\"mnr-c pla-unit\")\n",
    "            self.parse_top_ads()\n",
    "        except:\n",
    "            print(\"Unable to parse top_ads\\n\")\n",
    "            \n",
    "        #get right ads\n",
    "        #try:\n",
    "           # self.right_ads = self.soup.find(id=\"rhs_block\")\n",
    "           # print(self.right_ads.prettify())\n",
    "           # self.parse_right_ads()\n",
    "        #except:\n",
    "           # print(\"Unable to parse right_ads\\n\")\n",
    "        \n",
    "    #todo - all the ads\n",
    "      \n",
    "    def parse_right_ads(self):\n",
    "        ad_data = self.right_ads.find(class_=\"_Ei rhsg4\")\n",
    "        self.right_ad_list = self.right_ads.find(class_=\"_Dw\")\n",
    "        for item in self.top_right_list:\n",
    "            #create ad object\n",
    "            ad              = advertiz(ad_data.get_text())\n",
    "            ad.product_url  = ad_data['href']\n",
    "           # ad.price        = item.span.find('span' ,attrs={class_=\"_kH\"}).get_text()\n",
    "            ad.vendor       = item.find(class_=\"rhsl4\").get_text()\n",
    "            ad.convert_url_to_pdf()\n",
    "            self.ads.append(ad)\n",
    "            \n",
    "    def parse_top_ads(self):\n",
    "        for item in self.top_ads_list:\n",
    "            ad_data         = item.find(class_=\"_Z5 _BHp\").find(class_=\"plantl pla-unit-title-link\")\n",
    "            #create ad object\n",
    "            ad              = advertiz(ad_data.find('span', attrs={'class': '_GAv'}).text)\n",
    "            ad.product_url  = ad_data['href']\n",
    "            ad.price        = item.find(class_=\"_Z5 _BHp\").find(class_=\"_QD _pvi\").get_text()\n",
    "            ad.vendor       = item.find(class_=\"_Z5 _BHp\").find(class_=\"_mC\").get_text()\n",
    "            ad.convert_url_to_pdf()\n",
    "            self.ads.append(ad)\n",
    "    \n",
    "    def convert_to_csv(self):\n",
    "        with open(\"../data/Ads.csv\", 'w') as myfile:\n",
    "            wr = csv.writer(myfile, quoting=csv.QUOTE_ALL)\n",
    "            wr.writerow(cols)\n",
    "            for ad in self.ads:\n",
    "                row = [datetime.datetime.now(),\n",
    "                       self.keyword,\n",
    "                       self.address, \n",
    "                       ad.product_url,\n",
    "                       ad.vendor,\n",
    "                       \"NA\",\n",
    "                       \"top ad\", \n",
    "                       \"NA\", \n",
    "                       \"1\",\n",
    "                       \"Sponsored Ad\", \n",
    "                       \"NA\",\n",
    "                        ad.price,\n",
    "                        ad.filename]\n",
    "                wr.writerow(row)\n",
    "            \n",
    "        \n",
    "            "
   ]
  },
  {
   "cell_type": "code",
   "execution_count": 7,
   "metadata": {
    "scrolled": false
   },
   "outputs": [
    {
     "name": "stdout",
     "output_type": "stream",
     "text": [
      "Unable to parse top_ads\n",
      "\n",
      "Keyword : Graco DreamGlider Gliding Swing & Sleeper Baby Swing, percy\n",
      "Address : http://www.google.com/search?q=Graco+DreamGlider+Gliding+Swing+%26+Sleeper+Baby+Swing%2C+percy&num=100&hl=en&start=0\n",
      "Title   : Graco DreamGlider Gliding Swing & Sleeper Baby Swing, percy - Google Search\n"
     ]
    }
   ],
   "source": [
    "ad_result = AdResult(\"Graco DreamGlider Gliding Swing & Sleeper Baby Swing, percy\")\n",
    "ad_result.to_string()\n"
   ]
  },
  {
   "cell_type": "code",
   "execution_count": 460,
   "metadata": {
    "collapsed": true
   },
   "outputs": [],
   "source": [
    "for ad in ad_result.ads:\n",
    "    ad.to_string()\n",
    "    \n"
   ]
  },
  {
   "cell_type": "code",
   "execution_count": 461,
   "metadata": {
    "collapsed": true
   },
   "outputs": [],
   "source": [
    "import datetime\n",
    "ad_result.convert_to_csv()\n"
   ]
  },
  {
   "cell_type": "code",
   "execution_count": null,
   "metadata": {
    "collapsed": true
   },
   "outputs": [],
   "source": []
  }
 ],
 "metadata": {
  "kernelspec": {
   "display_name": "Python 3",
   "language": "python",
   "name": "python3"
  },
  "language_info": {
   "codemirror_mode": {
    "name": "ipython",
    "version": 3
   },
   "file_extension": ".py",
   "mimetype": "text/x-python",
   "name": "python",
   "nbconvert_exporter": "python",
   "pygments_lexer": "ipython3",
   "version": "3.6.4"
  }
 },
 "nbformat": 4,
 "nbformat_minor": 2
}
